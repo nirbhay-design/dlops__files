{
 "cells": [
  {
   "cell_type": "code",
   "execution_count": null,
   "id": "e888e582",
   "metadata": {},
   "outputs": [],
   "source": [
    "import pandas as pd\n",
    "import numpy as np\n",
    "import matplotlib.pyplot as plt\n",
    "import os\n",
    "from PIL import Image\n",
    "import cv2"
   ]
  },
  {
   "cell_type": "code",
   "execution_count": null,
   "id": "e5101534",
   "metadata": {},
   "outputs": [],
   "source": [
    "!rm -rf `find -type d -name .ipynb_checkpoints`"
   ]
  },
  {
   "cell_type": "code",
   "execution_count": null,
   "id": "97a07d81",
   "metadata": {},
   "outputs": [],
   "source": [
    "PATH = \"../data/\"\n",
    "IMAGE_PATH = os.path.join(PATH,\"images/\")"
   ]
  },
  {
   "cell_type": "code",
   "execution_count": null,
   "id": "9c536563",
   "metadata": {},
   "outputs": [],
   "source": [
    "train_data = pd.read_csv(os.path.join(PATH,\"train.csv\"))\n",
    "test_data = pd.read_csv(os.path.join(PATH,\"test.csv\"))"
   ]
  },
  {
   "cell_type": "markdown",
   "id": "38b23801",
   "metadata": {},
   "source": [
    "## Data Statistics"
   ]
  },
  {
   "cell_type": "code",
   "execution_count": null,
   "id": "dfa6c59c",
   "metadata": {},
   "outputs": [],
   "source": [
    "heading = ['No. of training images', 'No. of test images']\n",
    "vals = [len(train_data), len(test_data)]\n",
    "plt.bar(heading, vals, color=['red', 'blue'])\n",
    "for idx, val in enumerate(vals):\n",
    "    plt.text(idx, val, str(val))\n",
    "plt.title(\"No. of Images\")\n",
    "plt.show()"
   ]
  },
  {
   "cell_type": "code",
   "execution_count": null,
   "id": "d3248296",
   "metadata": {},
   "outputs": [],
   "source": [
    "heading = train_data.columns[1:]\n",
    "vals = [ sum(train_data[col] > 0) for col in heading]\n",
    "plt.bar(heading, vals, color=['red', 'blue', 'green', 'orange'])\n",
    "for idx, val in enumerate(vals):\n",
    "    plt.text(idx, val, str(val))\n",
    "plt.title(\"No. of Images in each Label\")\n",
    "plt.show()"
   ]
  },
  {
   "cell_type": "markdown",
   "id": "7b799891",
   "metadata": {},
   "source": [
    "All the classes except `multiple_diseases` are fairly distributed, with each of them occupying approximately 30% of the dataset, indicating the problem of class imbalance"
   ]
  },
  {
   "cell_type": "markdown",
   "id": "4f2c6a4f",
   "metadata": {},
   "source": [
    "## Example Images in each class"
   ]
  },
  {
   "cell_type": "code",
   "execution_count": null,
   "id": "dfe3ee17",
   "metadata": {},
   "outputs": [],
   "source": [
    "def random_image(data, label):\n",
    "    c = np.random.choice(data[data[label]>0]['image_id'])\n",
    "    path = IMAGE_PATH + c + '.jpg'\n",
    "    return cv2.imread(path)"
   ]
  },
  {
   "cell_type": "code",
   "execution_count": null,
   "id": "62825c26",
   "metadata": {},
   "outputs": [],
   "source": [
    "fig, axarr = plt.subplots(2,2, figsize=(10,8))\n",
    "axarr[0,0].imshow(random_image(train_data, heading[0]))\n",
    "axarr[0,0].set_title(heading[0])\n",
    "axarr[0,1].imshow(random_image(train_data, heading[1]))\n",
    "axarr[0,1].set_title(heading[1])\n",
    "axarr[1,0].imshow(random_image(train_data, heading[2]))\n",
    "axarr[1,0].set_title(heading[2])\n",
    "axarr[1,1].imshow(random_image(train_data, heading[3]))\n",
    "axarr[1,1].set_title(heading[3])\n",
    "fig.suptitle(\"Example Images\", fontsize=16)\n",
    "plt.show()"
   ]
  },
  {
   "cell_type": "markdown",
   "id": "d9aa5217",
   "metadata": {},
   "source": [
    "## Channel Distribution"
   ]
  },
  {
   "cell_type": "code",
   "execution_count": null,
   "id": "8128c344",
   "metadata": {},
   "outputs": [],
   "source": [
    "def plot_colour_hist(df, title):\n",
    "    red_values = []; green_values = []; blue_values = []; all_channels = []\n",
    "    for _, row in df.iterrows():\n",
    "        img = np.array(Image.open(IMAGE_PATH + row.image_id + '.jpg'))\n",
    "        red_values.append(np.mean(img[:, :, 2]))\n",
    "        green_values.append(np.mean(img[:, :, 1]))\n",
    "        blue_values.append(np.mean(img[:, :, 0]))\n",
    "        all_channels.append(np.mean(img))\n",
    "        \n",
    "    _, axes = plt.subplots(ncols=4, nrows=1, constrained_layout=True, figsize=(16, 3), sharey=True)\n",
    "    for ax, column, vals, c in zip(\n",
    "        axes,\n",
    "        ['red', 'green', 'blue', 'all colours'],\n",
    "        [red_values, green_values, blue_values, all_channels],\n",
    "        'rgbk'\n",
    "    ):\n",
    "        ax.hist(vals, bins=100, color=c)\n",
    "        ax.set_title(f'{column} hist')\n",
    "\n",
    "    plt.suptitle(title)\n",
    "    plt.show()"
   ]
  },
  {
   "cell_type": "code",
   "execution_count": null,
   "id": "362fd746",
   "metadata": {},
   "outputs": [],
   "source": [
    "plot_colour_hist(train_data, title='Train colour dist')"
   ]
  },
  {
   "cell_type": "markdown",
   "id": "2d23ab31",
   "metadata": {},
   "source": [
    "All the distributions seem to follow normal distribution with slight positive/negative skew"
   ]
  },
  {
   "cell_type": "markdown",
   "id": "ba769bc9",
   "metadata": {},
   "source": [
    "## t-SNE Plot"
   ]
  },
  {
   "cell_type": "code",
   "execution_count": null,
   "id": "e2ff6006",
   "metadata": {},
   "outputs": [],
   "source": [
    "from sklearn.manifold import TSNE\n",
    "tsne = TSNE(n_components=2, learning_rate=100)\n",
    "num_examples = 200"
   ]
  },
  {
   "cell_type": "code",
   "execution_count": null,
   "id": "a0d998d0",
   "metadata": {},
   "outputs": [],
   "source": [
    "X = [cv2.imread(IMAGE_PATH + c + '.jpg').flatten() for c in train_data['image_id'][:num_examples]]\n",
    "target_ids = np.where(np.array(train_data[heading][:num_examples]))[1]"
   ]
  },
  {
   "cell_type": "code",
   "execution_count": null,
   "id": "01f491e5",
   "metadata": {},
   "outputs": [],
   "source": [
    "X_tsne = tsne.fit_transform(X)"
   ]
  },
  {
   "cell_type": "code",
   "execution_count": null,
   "id": "5a7f00b3",
   "metadata": {},
   "outputs": [],
   "source": [
    "from matplotlib import pyplot as plt\n",
    "plt.figure(figsize=(6, 5))\n",
    "colors = ['r', 'g', 'b', 'c']\n",
    "for i, c, label in zip(target_ids, colors, heading):\n",
    "    plt.scatter(X_tsne[target_ids == i, 0], X_tsne[target_ids == i, 1], c=c, label=label)\n",
    "plt.legend()\n",
    "plt.show()"
   ]
  },
  {
   "cell_type": "markdown",
   "id": "775220c8",
   "metadata": {},
   "source": [
    "No appreciable information can be infered from the t-SNE plot, though it may require more tuning of the parameters / dimensionality reduction by PCA to remove noise"
   ]
  }
 ],
 "metadata": {
  "kernelspec": {
   "display_name": "Python 3 (ipykernel)",
   "language": "python",
   "name": "python3"
  },
  "language_info": {
   "codemirror_mode": {
    "name": "ipython",
    "version": 3
   },
   "file_extension": ".py",
   "mimetype": "text/x-python",
   "name": "python",
   "nbconvert_exporter": "python",
   "pygments_lexer": "ipython3",
   "version": "3.8.12"
  }
 },
 "nbformat": 4,
 "nbformat_minor": 5
}
