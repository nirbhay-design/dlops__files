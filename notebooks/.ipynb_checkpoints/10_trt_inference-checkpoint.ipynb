{
 "cells": [
  {
   "cell_type": "code",
   "execution_count": 1,
   "id": "b03bdc8f",
   "metadata": {},
   "outputs": [],
   "source": [
    "from torchvision import transforms\n",
    "import pandas as pd\n",
    "from PIL import Image\n",
    "import numpy as np\n",
    "import tensorrt as trt\n",
    "import pycuda.driver as cuda\n",
    "import pycuda.autoinit\n",
    "import matplotlib.pyplot as plt\n",
    "import seaborn as sns\n",
    "from scipy.special import softmax\n",
    "import os\n",
    "BATCH_SIZE = 8\n",
    "MODEL_PATH_FP32 = '../triton_model_repository/resnet18_trt_fp32/1/model.plan'\n",
    "MODEL_PATH_FP16 = '../triton_model_repository/resnet18_trt_fp16/1/model.plan'\n",
    "MODEL_NAME = 'resnet18'\n",
    "NUM_CLASSES = 4\n",
    "IMAGE_SIZE = 224\n",
    "ROOT_DIR = '../data/images/'\n",
    "CSV_PATH = '../data/val_split.csv'"
   ]
  },
  {
   "cell_type": "code",
   "execution_count": 2,
   "id": "04bae2fb",
   "metadata": {},
   "outputs": [],
   "source": [
    "os.environ[\"CUDA_DEVICE_ORDER\"]=\"PCI_BUS_ID\"   # see issue #152\n",
    "os.environ[\"CUDA_VISIBLE_DEVICES\"]=\"0\""
   ]
  },
  {
   "cell_type": "code",
   "execution_count": 3,
   "id": "9c31940f",
   "metadata": {},
   "outputs": [],
   "source": [
    "class TensorRTInfer:\n",
    "    \"\"\"\n",
    "    Implements inference for the EfficientNet TensorRT engine.\n",
    "    \"\"\"\n",
    "\n",
    "    def __init__(self, engine_path, batch_size):\n",
    "        # Load TRT engine\n",
    "        self.logger = trt.Logger(trt.Logger.ERROR)\n",
    "        with open(engine_path, \"rb\") as f, trt.Runtime(self.logger) as runtime:\n",
    "            self.engine = runtime.deserialize_cuda_engine(f.read())\n",
    "        self.context = self.engine.create_execution_context()\n",
    "        assert self.engine\n",
    "        assert self.context\n",
    "        \n",
    "        self.context.set_binding_shape(0, (BATCH_SIZE, 3, 224 , 224))\n",
    "        self.batch_size = batch_size\n",
    "\n",
    "        # Setup I/O bindings\n",
    "        self.inputs = []\n",
    "        self.outputs = []\n",
    "        self.allocations = []\n",
    "        for i in range(self.engine.num_bindings):\n",
    "            is_input = False\n",
    "            if self.engine.binding_is_input(i):\n",
    "                is_input = True\n",
    "            name = self.engine.get_binding_name(i)\n",
    "            dtype = self.engine.get_binding_dtype(i)\n",
    "            shape = self.engine.get_binding_shape(i)\n",
    "            \n",
    "            if (shape[0] < 0):\n",
    "                shape[0] = self.batch_size\n",
    "                \n",
    "            if is_input:\n",
    "                self.batch_size = shape[0]\n",
    "            size = np.dtype(trt.nptype(dtype)).itemsize\n",
    "            for s in shape:\n",
    "                size *= s\n",
    "            allocation = cuda.mem_alloc(size)\n",
    "            binding = {\n",
    "                'index': i,\n",
    "                'name': name,\n",
    "                'dtype': np.dtype(trt.nptype(dtype)),\n",
    "                'shape': list(shape),\n",
    "                'allocation': allocation,\n",
    "            }\n",
    "            self.allocations.append(allocation)\n",
    "            if self.engine.binding_is_input(i):\n",
    "                self.inputs.append(binding)\n",
    "            else:\n",
    "                self.outputs.append(binding)\n",
    "                \n",
    "        # Prepare the output data\n",
    "        self.output_data = np.zeros(*self.output_spec())\n",
    "\n",
    "        assert self.batch_size > 0\n",
    "        assert len(self.inputs) > 0\n",
    "        assert len(self.outputs) > 0\n",
    "        assert len(self.allocations) > 0\n",
    "\n",
    "    def input_spec(self):\n",
    "        return self.inputs[0]['shape'], self.inputs[0]['dtype']\n",
    "\n",
    "    def output_spec(self):\n",
    "        return self.outputs[0]['shape'], self.outputs[0]['dtype']\n",
    "\n",
    "    def infer(self, batch, top=1):       \n",
    "        # Process I/O and execute the network\n",
    "        cuda.memcpy_htod(self.inputs[0]['allocation'], np.ascontiguousarray(batch))\n",
    "        self.context.execute_v2(self.allocations)\n",
    "        cuda.memcpy_dtoh(self.output_data, self.outputs[0]['allocation'])\n",
    "        return self.output_data"
   ]
  },
  {
   "cell_type": "code",
   "execution_count": 4,
   "id": "e8e8c92a",
   "metadata": {},
   "outputs": [],
   "source": [
    "trans = transforms.Compose([\n",
    "    transforms.Resize(size=(IMAGE_SIZE,IMAGE_SIZE)),\n",
    "    transforms.ToTensor(),\n",
    "    transforms.Normalize(mean = (0.485, 0.456, 0.406),\n",
    "                         std = (0.229, 0.224, 0.225))\n",
    "])"
   ]
  },
  {
   "cell_type": "code",
   "execution_count": 5,
   "id": "1a7a8468",
   "metadata": {},
   "outputs": [],
   "source": [
    "val_split = pd.read_csv(CSV_PATH)\n",
    "val_img_paths = [ path for path in val_split['image_id'][:BATCH_SIZE]]\n",
    "val_imgs = np.array( [trans(Image.open(path)).numpy() for path in val_img_paths] , dtype=np.float32)"
   ]
  },
  {
   "cell_type": "markdown",
   "id": "21527998",
   "metadata": {},
   "source": [
    "# FP32 Model"
   ]
  },
  {
   "cell_type": "code",
   "execution_count": 6,
   "id": "a1807dba",
   "metadata": {},
   "outputs": [],
   "source": [
    "trt_engine = TensorRTInfer(MODEL_PATH_FP32, BATCH_SIZE)"
   ]
  },
  {
   "cell_type": "markdown",
   "id": "11a19cf7",
   "metadata": {},
   "source": [
    "## Checking Performance"
   ]
  },
  {
   "cell_type": "code",
   "execution_count": 7,
   "id": "93fbfcef",
   "metadata": {},
   "outputs": [],
   "source": [
    "# Warm-up\n",
    "pred = trt_engine.infer(val_imgs)"
   ]
  },
  {
   "cell_type": "code",
   "execution_count": 8,
   "id": "fbc167dc",
   "metadata": {},
   "outputs": [
    {
     "name": "stdout",
     "output_type": "stream",
     "text": [
      "23.6 ms ± 184 µs per loop (mean ± std. dev. of 7 runs, 10 loops each)\n"
     ]
    }
   ],
   "source": [
    "%%timeit\n",
    "\n",
    "pred = trt_engine.infer(val_imgs)"
   ]
  },
  {
   "cell_type": "markdown",
   "id": "4076a51d",
   "metadata": {},
   "source": [
    "## Running Inference"
   ]
  },
  {
   "cell_type": "code",
   "execution_count": 9,
   "id": "409a8aa1",
   "metadata": {},
   "outputs": [],
   "source": [
    "def batch(iterable, n=1):\n",
    "    l = len(iterable)\n",
    "    for ndx in range(0, l, n):\n",
    "        yield iterable[ndx:min(ndx + n, l)]"
   ]
  },
  {
   "cell_type": "code",
   "execution_count": 10,
   "id": "74029976",
   "metadata": {},
   "outputs": [],
   "source": [
    "val_split = pd.read_csv(CSV_PATH)\n",
    "val_img_paths = [path for path in val_split['image_id']]\n",
    "gt = val_split['label']\n",
    "\n",
    "pred = None\n",
    "\n",
    "for path in batch(val_img_paths, BATCH_SIZE):\n",
    "    val_imgs = np.array( [trans(Image.open(p)).numpy() for p in path] , dtype=np.float32)\n",
    "    result = trt_engine.infer(val_imgs)\n",
    "    result = np.argmax(softmax(result, axis=1), axis=1)\n",
    "    pred = np.concatenate((pred, result), axis=0) if pred is not None else result\n",
    "pred = pred[:len(val_img_paths)]"
   ]
  },
  {
   "cell_type": "code",
   "execution_count": 11,
   "id": "ea40062c",
   "metadata": {},
   "outputs": [
    {
     "data": {
      "image/png": "[encoded data removed]",
      "text/plain": [
       "<Figure size 720x504 with 2 Axes>"
      ]
     },
     "metadata": {
      "needs_background": "light"
     },
     "output_type": "display_data"
    }
   ],
   "source": [
    "import matplotlib.pyplot as plt\n",
    "import seaborn as sns\n",
    "from sklearn.metrics import confusion_matrix\n",
    "plt.figure(figsize = (10,7))\n",
    "fig_ = sns.heatmap(confusion_matrix(gt, pred), annot=True, cmap='Spectral', fmt='g').get_figure()\n",
    "plt.show()"
   ]
  },
  {
   "cell_type": "markdown",
   "id": "eb397d6e",
   "metadata": {},
   "source": [
    "# FP16 Model"
   ]
  },
  {
   "cell_type": "code",
   "execution_count": 12,
   "id": "24bde1c8",
   "metadata": {},
   "outputs": [],
   "source": [
    "trt_engine = TensorRTInfer(MODEL_PATH_FP16, BATCH_SIZE)"
   ]
  },
  {
   "cell_type": "markdown",
   "id": "a74433c6",
   "metadata": {},
   "source": [
    "## Checking Performance"
   ]
  },
  {
   "cell_type": "code",
   "execution_count": 13,
   "id": "ac21279e",
   "metadata": {},
   "outputs": [],
   "source": [
    "# Warm-up\n",
    "pred = trt_engine.infer(val_imgs)"
   ]
  },
  {
   "cell_type": "code",
   "execution_count": 14,
   "id": "d1b06ca9",
   "metadata": {},
   "outputs": [
    {
     "name": "stdout",
     "output_type": "stream",
     "text": [
      "5.81 ms ± 517 µs per loop (mean ± std. dev. of 7 runs, 100 loops each)\n"
     ]
    }
   ],
   "source": [
    "%%timeit\n",
    "\n",
    "pred = trt_engine.infer(val_imgs)"
   ]
  },
  {
   "cell_type": "markdown",
   "id": "8013dfa3",
   "metadata": {},
   "source": [
    "## Running Inference"
   ]
  },
  {
   "cell_type": "code",
   "execution_count": 15,
   "id": "56f6e5cc",
   "metadata": {},
   "outputs": [],
   "source": [
    "def batch(iterable, n=1):\n",
    "    l = len(iterable)\n",
    "    for ndx in range(0, l, n):\n",
    "        yield iterable[ndx:min(ndx + n, l)]"
   ]
  },
  {
   "cell_type": "code",
   "execution_count": 16,
   "id": "4bfec67d",
   "metadata": {},
   "outputs": [],
   "source": [
    "val_split = pd.read_csv(CSV_PATH)\n",
    "val_img_paths = [path for path in val_split['image_id']]\n",
    "cols = val_split.columns[1:]\n",
    "gt = val_split['label']\n",
    "\n",
    "pred = None\n",
    "\n",
    "for path in batch(val_img_paths, BATCH_SIZE):\n",
    "    val_imgs = np.array( [trans(Image.open(p)).numpy() for p in path] , dtype=np.float32)\n",
    "    result = trt_engine.infer(val_imgs)\n",
    "    result = np.argmax(softmax(result, axis=1), axis=1)\n",
    "    pred = np.concatenate((pred, result), axis=0) if pred is not None else result\n",
    "pred = pred[:len(val_img_paths)]"
   ]
  },
  {
   "cell_type": "code",
   "execution_count": 17,
   "id": "df9ec331",
   "metadata": {},
   "outputs": [
    {
     "data": {
      "image/png": "[encoded data removed]",
      "text/plain": [
       "<Figure size 720x504 with 2 Axes>"
      ]
     },
     "metadata": {
      "needs_background": "light"
     },
     "output_type": "display_data"
    }
   ],
   "source": [
    "plt.figure(figsize = (10,7))\n",
    "fig_ = sns.heatmap(confusion_matrix(gt, pred), annot=True, cmap='Spectral', fmt='g').get_figure()\n",
    "plt.show()"
   ]
  }
 ],
 "metadata": {
  "kernelspec": {
   "display_name": "Python 3 (ipykernel)",
   "language": "python",
   "name": "python3"
  },
  "language_info": {
   "codemirror_mode": {
    "name": "ipython",
    "version": 3
   },
   "file_extension": ".py",
   "mimetype": "text/x-python",
   "name": "python",
   "nbconvert_exporter": "python",
   "pygments_lexer": "ipython3",
   "version": "3.8.12"
  }
 },
 "nbformat": 4,
 "nbformat_minor": 5
}
