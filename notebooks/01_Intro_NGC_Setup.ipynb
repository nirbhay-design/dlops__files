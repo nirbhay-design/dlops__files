{
 "cells": [
  {
   "cell_type": "markdown",
   "id": "62da0960",
   "metadata": {},
   "source": [
    "# NVIDIA GPU Cloud (NGC) Setup \n",
    "\n",
    "The NGC™ catalog is a hub of GPU-optimized AI, high-performance computing (HPC), and data analytics software that simplifies and accelerates end-to-end workflows. It includes enterprise-grade containers, pretrained AI models, and industry-specific SDKs. In this class, you'll install various conversational AI resources this way. To get started with Docker, perform the following steps to sign up for a free NGC account and generate an application programming interface (API) key:\n",
    "\n",
    "## Step 1: Sign In to NGC:\n",
    "\n",
    "- Visit the [NGC website signin](https://ngc.nvidia.com/signin) to get started. Click the appropriate \"Continue\" button.<br>\n",
    "   <img src=\"images/intro/ngc_signin.png\"><br>\n",
    "- On the next page, enter your email address to sign in or create an account.<br>\n",
    "   <img src=\"images/intro/ngc_create.png\"><br>\n",
    "- Follow the prompts to complete your account creation and sign in."
   ]
  },
  {
   "cell_type": "markdown",
   "id": "c2af9e20",
   "metadata": {},
   "source": [
    "## Step 2: Generate Your API Key\n",
    "Generate your own API key in order to use the NGC service through the Docker client or through NGC CLI.  \n",
    "- In the top right corner, click your user account icon and select \"Setup\".\n",
    "- Click \"Get API Key\" to open the Setup > API Key page.<br>\n",
    "   <img src=\"images/intro/ngc_api.png\"><br>\n",
    "- Click \"Generate API Key\" to generate your API key. A warning message appears to let you know that your old API key will become invalid if you create a new key.\n",
    "- Click \"Confirm\" to generate the key.\n",
    "- Your API key appears.\n",
    "- You only have to generate an API Key once. NGC does not save your key, <so>so copy and store it in a secure place.</b> (You can copy your API Key to the clipboard by clicking the copy icon to the right of the API key. )\n",
    "- Should you lose your API Key, you can generate a new one from the NGC website. If you generate a new API Key, the old one is invalidated."
   ]
  },
  {
   "cell_type": "markdown",
   "id": "c4b68548",
   "metadata": {},
   "source": [
    "## Step 3: Log In to the NGC Registry from Docker\n",
    "- Open a terminal from the launch screen of JupyterLab (upper left \"+\", then choose terminal)\n",
    "- Execute `docker login nvcr.io` from the command line and enter these login credentials (without the quotes):\n",
    "<br>Username: \"$oauthtoken”\n",
    "<br>Password: “YOUR_NGC_API_KEY”\n",
    "- After successfully logging in, your credential is stored in `~/.docker/config.json` for future logins. <br>\n",
    "   <img src=\"images/intro/ngc_docker_login.png\">\n",
    "- Your API key is now set for use with Docker "
   ]
  }
 ],
 "metadata": {
  "kernelspec": {
   "display_name": "Python 3 (ipykernel)",
   "language": "python",
   "name": "python3"
  },
  "language_info": {
   "codemirror_mode": {
    "name": "ipython",
    "version": 3
   },
   "file_extension": ".py",
   "mimetype": "text/x-python",
   "name": "python",
   "nbconvert_exporter": "python",
   "pygments_lexer": "ipython3",
   "version": "3.8.10"
  }
 },
 "nbformat": 4,
 "nbformat_minor": 5
}
